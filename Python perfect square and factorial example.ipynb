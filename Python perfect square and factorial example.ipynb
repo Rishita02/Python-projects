{
  "nbformat": 4,
  "nbformat_minor": 0,
  "metadata": {
    "colab": {
      "provenance": [],
      "collapsed_sections": [],
      "authorship_tag": "ABX9TyNRZnctDTFZe14ayiqWFWyB",
      "include_colab_link": true
    },
    "kernelspec": {
      "name": "python3",
      "display_name": "Python 3"
    },
    "language_info": {
      "name": "python"
    }
  },
  "cells": [
    {
      "cell_type": "markdown",
      "metadata": {
        "id": "view-in-github",
        "colab_type": "text"
      },
      "source": [
        "<a href=\"https://colab.research.google.com/github/Rishita02/Python-projects/blob/main/Python%20perfect%20square%20and%20factorial%20example.ipynb\" target=\"_parent\"><img src=\"https://colab.research.google.com/assets/colab-badge.svg\" alt=\"Open In Colab\"/></a>"
      ]
    },
    {
      "cell_type": "markdown",
      "source": [
        "Given a strinf of integeres, write a program to generate an output string as follows:\n",
        "i) Find all perfect square\n",
        "ii) For each perfect square, find its factorial. If the factorial of the number is trailing by zeroes, 3 dgits present before the trailing zeroes should be appended to output string. If there is a preceding zero it is ignored.\n",
        "iii0 If there are no positive perfect squares in the input string, print -1"
      ],
      "metadata": {
        "id": "SpkeisLjng2R"
      }
    },
    {
      "cell_type": "code",
      "execution_count": 30,
      "metadata": {
        "colab": {
          "base_uri": "https://localhost:8080/"
        },
        "id": "zM4F7_pVVUuQ",
        "outputId": "ceda9352-00bf-4ad0-a1ee-2c6dd049c5ae"
      },
      "outputs": [
        {
          "output_type": "stream",
          "name": "stdout",
          "text": [
            "2\n",
            "3\n",
            "6\n",
            "8\n",
            "10\n",
            "-1\n"
          ]
        }
      ],
      "source": [
        "from math import factorial\n",
        "def perfectSquares(l1):\n",
        "    l2=[]\n",
        "    # For every element from the range\n",
        "    for i in l1:\n",
        "        # If current element is a perfect square\n",
        "        if (i**(.5) == int(i**(.5))):\n",
        "          # Return string containing the last 3 non-zero digits of i!\n",
        "          ans = str(factorial(i))\n",
        "          ans = int(ans.rstrip('0'))\n",
        "          ans = str(ans % 1000)\n",
        "          ans= int(ans.lstrip('0'))\n",
        "          l2.append(ans)\n",
        "    if l2 != []:\n",
        "      return l2\n",
        "    return -1      \n",
        " \n",
        "# Driver code\n",
        "l1 = [2,3,6,8,10]\n",
        "s = perfectSquares(l1)\n",
        "print(s)"
      ]
    }
  ]
}