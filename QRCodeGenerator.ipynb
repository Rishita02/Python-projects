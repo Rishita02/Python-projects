{
  "nbformat": 4,
  "nbformat_minor": 0,
  "metadata": {
    "colab": {
      "name": "QRCodeGenerator.ipynb",
      "provenance": [],
      "collapsed_sections": [],
      "authorship_tag": "ABX9TyPYZoYT7XU1LIAfDzIQkLsn",
      "include_colab_link": true
    },
    "kernelspec": {
      "name": "python3",
      "display_name": "Python 3"
    },
    "language_info": {
      "name": "python"
    }
  },
  "cells": [
    {
      "cell_type": "markdown",
      "metadata": {
        "id": "view-in-github",
        "colab_type": "text"
      },
      "source": [
        "<a href=\"https://colab.research.google.com/github/Rishita02/Python-projects/blob/main/QRCodeGenerator.ipynb\" target=\"_parent\"><img src=\"https://colab.research.google.com/assets/colab-badge.svg\" alt=\"Open In Colab\"/></a>"
      ]
    },
    {
      "cell_type": "code",
      "execution_count": 1,
      "metadata": {
        "colab": {
          "base_uri": "https://localhost:8080/"
        },
        "id": "KJQ0EfOojXu5",
        "outputId": "cbdfc454-2c77-41c9-b6ab-b249c5c32a22"
      },
      "outputs": [
        {
          "output_type": "stream",
          "name": "stdout",
          "text": [
            "Collecting qrcode\n",
            "  Downloading qrcode-7.3.1.tar.gz (43 kB)\n",
            "\u001b[?25l\r\u001b[K     |███████▌                        | 10 kB 16.4 MB/s eta 0:00:01\r\u001b[K     |███████████████                 | 20 kB 21.3 MB/s eta 0:00:01\r\u001b[K     |██████████████████████▋         | 30 kB 13.1 MB/s eta 0:00:01\r\u001b[K     |██████████████████████████████▏ | 40 kB 5.0 MB/s eta 0:00:01\r\u001b[K     |████████████████████████████████| 43 kB 1.1 MB/s \n",
            "\u001b[?25hBuilding wheels for collected packages: qrcode\n",
            "  Building wheel for qrcode (setup.py) ... \u001b[?25l\u001b[?25hdone\n",
            "  Created wheel for qrcode: filename=qrcode-7.3.1-py3-none-any.whl size=40402 sha256=6e48e8a1a504029f53bb81b91d46ddffce5ac3d3a4303c03adafe80c04308ad8\n",
            "  Stored in directory: /root/.cache/pip/wheels/93/d7/39/a4111be2cfb8e679938aa671a37888b6afb1f9e7d748e94492\n",
            "Successfully built qrcode\n",
            "Installing collected packages: qrcode\n",
            "Successfully installed qrcode-7.3.1\n"
          ]
        }
      ],
      "source": [
        "!pip install qrcode"
      ]
    },
    {
      "cell_type": "code",
      "source": [
        "import qrcode\n",
        "img=qrcode.make(\"https://github.com/Rishita02/Python-projects\")\n",
        "img.save(\"link.jpg\")\n",
        "img1=qrcode.make(\"My name is Rishita\")\n",
        "img1.save(\"Rish.jpg\")"
      ],
      "metadata": {
        "id": "xXiKC1igmfXw"
      },
      "execution_count": 4,
      "outputs": []
    },
    {
      "cell_type": "code",
      "source": [
        "#For reading the .jpg file.\n",
        "#Pre-built CPU-only OpenCV packages for Python.\n",
        "!pip install opencv-python"
      ],
      "metadata": {
        "colab": {
          "base_uri": "https://localhost:8080/"
        },
        "id": "HJJJC_CtplUc",
        "outputId": "cb036d73-8b10-46b8-e615-8aeccf1626fd"
      },
      "execution_count": 5,
      "outputs": [
        {
          "output_type": "stream",
          "name": "stdout",
          "text": [
            "Requirement already satisfied: opencv-python in /usr/local/lib/python3.7/dist-packages (4.1.2.30)\n",
            "Requirement already satisfied: numpy>=1.14.5 in /usr/local/lib/python3.7/dist-packages (from opencv-python) (1.21.5)\n"
          ]
        }
      ]
    },
    {
      "cell_type": "code",
      "source": [
        "import cv2\n",
        "#Generating QR code detector\n",
        "d=cv2.QRCodeDetector()\n",
        "#reading the image in opencv and decoding the string back to get the original content of file.\n",
        "val,points,straight_qrcode=d.detectAndDecode(cv2.imread(\"link.jpg\"))\n",
        "#val is the encoded string.\n",
        "print(val)"
      ],
      "metadata": {
        "colab": {
          "base_uri": "https://localhost:8080/"
        },
        "id": "s00kN5t7pxRt",
        "outputId": "7defde96-b107-4580-c5cf-7a867be1343b"
      },
      "execution_count": 6,
      "outputs": [
        {
          "output_type": "stream",
          "name": "stdout",
          "text": [
            "https://github.com/Rishita02/Python-projects\n"
          ]
        }
      ]
    },
    {
      "cell_type": "markdown",
      "source": [
        "# New section"
      ],
      "metadata": {
        "id": "w0YE8vxcnMy5"
      }
    }
  ]
}